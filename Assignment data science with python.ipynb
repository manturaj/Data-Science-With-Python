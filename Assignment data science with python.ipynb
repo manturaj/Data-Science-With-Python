{
 "cells": [
  {
   "cell_type": "code",
   "execution_count": 1,
   "id": "fccd33b1",
   "metadata": {},
   "outputs": [
    {
     "name": "stdout",
     "output_type": "stream",
     "text": [
      "1 Dimension Array: \n",
      "[0 1 2 3 4 5 6]\n",
      "\n",
      " 2 Dimension Array: \n",
      "[[ 0  1  2  3  4  5  6]\n",
      " [ 7  8  9 10 11 12 13]\n",
      " [14 15 16 17 18 19 20]]\n",
      "0 : 0\n",
      "1 : 1\n",
      "2 : 2\n",
      "3 : 3\n",
      "4 : 4\n",
      "5 : 5\n",
      "6 : 6\n",
      "0 : 7\n",
      "1 : 8\n",
      "2 : 9\n",
      "3 : 10\n",
      "4 : 11\n",
      "5 : 12\n",
      "6 : 13\n",
      "0 : 14\n",
      "1 : 15\n",
      "2 : 16\n",
      "3 : 17\n",
      "4 : 18\n",
      "5 : 19\n",
      "6 : 20\n"
     ]
    }
   ],
   "source": [
    "#Q. 1.Write a code to combine  a one and a two-dimensional NumPy Array\n",
    "import numpy as np\n",
    "print(\"1 Dimension Array: \")\n",
    "ar1=np.arange(7)\n",
    "print(ar1)\n",
    "\n",
    "print(\"\\n 2 Dimension Array: \")\n",
    "ar2=np.arange(21).reshape(3,7)\n",
    "print(ar2)\n",
    "for a,b in np.nditer([ar1,ar2]):\n",
    "    print(\"%d : %d\"%(a,b))"
   ]
  },
  {
   "cell_type": "code",
   "execution_count": 2,
   "id": "c1d4ddaa",
   "metadata": {},
   "outputs": [
    {
     "name": "stdout",
     "output_type": "stream",
     "text": [
      "[[ 1  2  3  4  5]\n",
      " [ 6  7  8  9 10]\n",
      " [11 12 13 14 15]\n",
      " [16 17 18 19 20]]\n",
      "True\n",
      "False\n",
      "True\n",
      "False\n"
     ]
    }
   ],
   "source": [
    "#Q. 2. Write a code to check whether a Numpy array contains a specified row. \n",
    "import numpy as np\n",
    "arr=np.array([[1, 2, 3, 4, 5],\n",
    "                   [6, 7, 8, 9, 10],\n",
    "                   [11, 12, 13, 14, 15],\n",
    "                   [16, 17, 18, 19, 20]\n",
    "                   ])\n",
    "print(arr)\n",
    "print([1,2,3,4,5] in arr.tolist())\n",
    "print([1,-2,5,4,-8] in arr.tolist())\n",
    "print([11,12,13,14,15] in arr.tolist())\n",
    "print([16,17,18,19,20,21] in arr.tolist())"
   ]
  },
  {
   "cell_type": "code",
   "execution_count": 3,
   "id": "7e3cfc6f",
   "metadata": {},
   "outputs": [
    {
     "name": "stdout",
     "output_type": "stream",
     "text": [
      "    name  attempts  score qualify\n",
      "a    sam       1.0      8      no\n",
      "b   ravi       2.0     12     yes\n",
      "c    raj       3.0      9      no\n",
      "d  sunny       2.0     12     yes\n",
      "e    ram       1.0     19     yes\n"
     ]
    }
   ],
   "source": [
    "#Q. 3.  Write a Pandas code to create and display a DataFrame from a specified dictionary data which has the index labels\n",
    "\n",
    "import pandas as pd\n",
    "exam_date={'name':['sam','ravi','raj','sunny','ram'],\n",
    "          'attempts':[1,2,3.,2,1],\n",
    "          'score':[8,12,9,12,19],\n",
    "          'qualify':['no','yes','no','yes','yes']}\n",
    "label=['a','b','c','d','e']\n",
    "df=pd.DataFrame(exam_date,index=label)\n",
    "print(df)"
   ]
  },
  {
   "cell_type": "code",
   "execution_count": 4,
   "id": "94e63c8d",
   "metadata": {},
   "outputs": [
    {
     "name": "stdout",
     "output_type": "stream",
     "text": [
      "   name  marks\n",
      "0   sam     85\n",
      "1   ram     95\n",
      "2  amit     75\n"
     ]
    }
   ],
   "source": [
    "#Q. 4.Write a pandas code to create DataFrame from dict of narray/lists\n",
    "\n",
    "import pandas as pd\n",
    "data={'name':['sam','ram','amit'],\n",
    "     'marks':[85,95,75]}\n",
    "df=pd.DataFrame(data)\n",
    "print(df)"
   ]
  },
  {
   "cell_type": "code",
   "execution_count": 7,
   "id": "ca3a18e5",
   "metadata": {},
   "outputs": [
    {
     "name": "stdout",
     "output_type": "stream",
     "text": [
      "   Name  Age\n",
      "0   sam   20\n",
      "1  ravi   25\n",
      "2  amit   21\n"
     ]
    }
   ],
   "source": [
    "#Q. 5. Write a pandas code to create Pandas dataframe using list of lists\n",
    "\n",
    "import pandas as pd\n",
    "data=[['sam',20],['ravi',25],['amit',21]]\n",
    "df=pd.DataFrame(data,columns=['Name','Age'])\n",
    "print(df)\n"
   ]
  },
  {
   "cell_type": "code",
   "execution_count": null,
   "id": "d0354e4b",
   "metadata": {},
   "outputs": [],
   "source": []
  }
 ],
 "metadata": {
  "kernelspec": {
   "display_name": "Python 3 (ipykernel)",
   "language": "python",
   "name": "python3"
  },
  "language_info": {
   "codemirror_mode": {
    "name": "ipython",
    "version": 3
   },
   "file_extension": ".py",
   "mimetype": "text/x-python",
   "name": "python",
   "nbconvert_exporter": "python",
   "pygments_lexer": "ipython3",
   "version": "3.9.12"
  }
 },
 "nbformat": 4,
 "nbformat_minor": 5
}
